{
  "nbformat": 4,
  "nbformat_minor": 0,
  "metadata": {
    "colab": {
      "name": "Pulsar_folding",
      "provenance": [],
      "mount_file_id": "19CIJ7jlRQ0QnjxDKEg71Xdj6Uvs4LaD1",
      "authorship_tag": "ABX9TyNZ2AbTfAi/KG1/ZEFTqnuO"
    },
    "kernelspec": {
      "name": "python3",
      "display_name": "Python 3"
    }
  },
  "cells": [
    {
      "cell_type": "code",
      "metadata": {
        "id": "Jfq9Go8sp0NE",
        "colab_type": "code",
        "outputId": "b502ddf7-b827-4e85-bb71-f8e5f193bdb8",
        "colab": {
          "base_uri": "https://localhost:8080/",
          "height": 561
        }
      },
      "source": [
        "!pip install blimpy\n",
        "!wget http://blpd13.ssl.berkeley.edu/borisov/AGBT19B_999_124/spliced_blc40414243444546o7o0515253545556o7o061626364656667_guppi_58837_86186_PSR_B0355+54_0013.gpuspec.8.0001.fil"
      ],
      "execution_count": 1,
      "outputs": [
        {
          "output_type": "stream",
          "text": [
            "Collecting blimpy\n",
            "\u001b[?25l  Downloading https://files.pythonhosted.org/packages/c6/d6/f8a1ac18f213f650a2beb6dfec1cac6f6c0e220bbb2f45e78c19164f7111/blimpy-2.0.0-py3-none-any.whl (271kB)\n",
            "\r\u001b[K     |█▏                              | 10kB 17.5MB/s eta 0:00:01\r\u001b[K     |██▍                             | 20kB 3.1MB/s eta 0:00:01\r\u001b[K     |███▋                            | 30kB 4.0MB/s eta 0:00:01\r\u001b[K     |████▉                           | 40kB 4.3MB/s eta 0:00:01\r\u001b[K     |██████                          | 51kB 3.6MB/s eta 0:00:01\r\u001b[K     |███████▎                        | 61kB 4.0MB/s eta 0:00:01\r\u001b[K     |████████▌                       | 71kB 4.4MB/s eta 0:00:01\r\u001b[K     |█████████▋                      | 81kB 4.7MB/s eta 0:00:01\r\u001b[K     |██████████▉                     | 92kB 5.0MB/s eta 0:00:01\r\u001b[K     |████████████                    | 102kB 4.9MB/s eta 0:00:01\r\u001b[K     |█████████████▎                  | 112kB 4.9MB/s eta 0:00:01\r\u001b[K     |██████████████▌                 | 122kB 4.9MB/s eta 0:00:01\r\u001b[K     |███████████████▊                | 133kB 4.9MB/s eta 0:00:01\r\u001b[K     |█████████████████               | 143kB 4.9MB/s eta 0:00:01\r\u001b[K     |██████████████████              | 153kB 4.9MB/s eta 0:00:01\r\u001b[K     |███████████████████▎            | 163kB 4.9MB/s eta 0:00:01\r\u001b[K     |████████████████████▌           | 174kB 4.9MB/s eta 0:00:01\r\u001b[K     |█████████████████████▊          | 184kB 4.9MB/s eta 0:00:01\r\u001b[K     |███████████████████████         | 194kB 4.9MB/s eta 0:00:01\r\u001b[K     |████████████████████████▏       | 204kB 4.9MB/s eta 0:00:01\r\u001b[K     |█████████████████████████▍      | 215kB 4.9MB/s eta 0:00:01\r\u001b[K     |██████████████████████████▌     | 225kB 4.9MB/s eta 0:00:01\r\u001b[K     |███████████████████████████▊    | 235kB 4.9MB/s eta 0:00:01\r\u001b[K     |█████████████████████████████   | 245kB 4.9MB/s eta 0:00:01\r\u001b[K     |██████████████████████████████▏ | 256kB 4.9MB/s eta 0:00:01\r\u001b[K     |███████████████████████████████▍| 266kB 4.9MB/s eta 0:00:01\r\u001b[K     |████████████████████████████████| 276kB 4.9MB/s \n",
            "\u001b[?25hRequirement already satisfied: pandas in /usr/local/lib/python3.6/dist-packages (from blimpy) (1.0.3)\n",
            "Requirement already satisfied: h5py in /usr/local/lib/python3.6/dist-packages (from blimpy) (2.10.0)\n",
            "Collecting hdf5plugin\n",
            "\u001b[?25l  Downloading https://files.pythonhosted.org/packages/f0/2c/1dfab3cf0dbba35d53db9c3c5653c50cd9cb5795c23056f643830efc8de5/hdf5plugin-2.3.0-py2.py3-none-manylinux2014_x86_64.whl (5.4MB)\n",
            "\u001b[K     |████████████████████████████████| 5.4MB 8.1MB/s \n",
            "\u001b[?25hRequirement already satisfied: numpy in /usr/local/lib/python3.6/dist-packages (from blimpy) (1.18.4)\n",
            "Requirement already satisfied: six in /usr/local/lib/python3.6/dist-packages (from blimpy) (1.12.0)\n",
            "Requirement already satisfied: matplotlib; python_version > \"2.7\" in /usr/local/lib/python3.6/dist-packages (from blimpy) (3.2.1)\n",
            "Requirement already satisfied: cython in /usr/local/lib/python3.6/dist-packages (from blimpy) (0.29.17)\n",
            "Requirement already satisfied: scipy in /usr/local/lib/python3.6/dist-packages (from blimpy) (1.4.1)\n",
            "Requirement already satisfied: astropy; python_version > \"2.7\" in /usr/local/lib/python3.6/dist-packages (from blimpy) (4.0.1.post1)\n",
            "Requirement already satisfied: python-dateutil>=2.6.1 in /usr/local/lib/python3.6/dist-packages (from pandas->blimpy) (2.8.1)\n",
            "Requirement already satisfied: pytz>=2017.2 in /usr/local/lib/python3.6/dist-packages (from pandas->blimpy) (2018.9)\n",
            "Requirement already satisfied: cycler>=0.10 in /usr/local/lib/python3.6/dist-packages (from matplotlib; python_version > \"2.7\"->blimpy) (0.10.0)\n",
            "Requirement already satisfied: pyparsing!=2.0.4,!=2.1.2,!=2.1.6,>=2.0.1 in /usr/local/lib/python3.6/dist-packages (from matplotlib; python_version > \"2.7\"->blimpy) (2.4.7)\n",
            "Requirement already satisfied: kiwisolver>=1.0.1 in /usr/local/lib/python3.6/dist-packages (from matplotlib; python_version > \"2.7\"->blimpy) (1.2.0)\n",
            "Installing collected packages: hdf5plugin, blimpy\n",
            "Successfully installed blimpy-2.0.0 hdf5plugin-2.3.0\n",
            "--2020-05-21 02:40:20--  http://blpd13.ssl.berkeley.edu/borisov/AGBT19B_999_124/spliced_blc40414243444546o7o0515253545556o7o061626364656667_guppi_58837_86186_PSR_B0355+54_0013.gpuspec.8.0001.fil\n",
            "Resolving blpd13.ssl.berkeley.edu (blpd13.ssl.berkeley.edu)... 208.68.240.55\n",
            "Connecting to blpd13.ssl.berkeley.edu (blpd13.ssl.berkeley.edu)|208.68.240.55|:80... connected.\n",
            "HTTP request sent, awaiting response... 200 OK\n",
            "Length: 8776581466 (8.2G) [application/octet-stream]\n",
            "Saving to: ‘spliced_blc40414243444546o7o0515253545556o7o061626364656667_guppi_58837_86186_PSR_B0355+54_0013.gpuspec.8.0001.fil’\n",
            "\n",
            "spliced_blc40414243 100%[===================>]   8.17G  55.7MB/s    in 2m 49s  \n",
            "\n",
            "2020-05-21 02:43:09 (49.5 MB/s) - ‘spliced_blc40414243444546o7o0515253545556o7o061626364656667_guppi_58837_86186_PSR_B0355+54_0013.gpuspec.8.0001.fil’ saved [8776581466/8776581466]\n",
            "\n"
          ],
          "name": "stdout"
        }
      ]
    },
    {
      "cell_type": "code",
      "metadata": {
        "id": "8ORVKcLJskZ9",
        "colab_type": "code",
        "outputId": "4ff40156-ba01-4630-9951-b20d19e5d1b1",
        "colab": {
          "base_uri": "https://localhost:8080/",
          "height": 510
        }
      },
      "source": [
        "from blimpy import Waterfall\n",
        "import pylab as plt\n",
        "import numpy as np\n",
        "%matplotlib inline\n",
        "header = Waterfall('/content/spliced_blc40414243444546o7o0515253545556o7o061626364656667_guppi_58837_86186_PSR_B0355+54_0013.gpuspec.8.0001.fil',load_data=True)\n",
        "header.info()"
      ],
      "execution_count": 1,
      "outputs": [
        {
          "output_type": "stream",
          "text": [
            "blimpy.io.base_reader WARNING  Selection size of 8.17 GB, exceeding our size limit 1.00 GB. Instance created, header loaded, but data not loaded, please try another (t,v) selection.\n",
            "\n",
            "--- File Info ---\n",
            "     rawdatafile :                                 \n",
            "     source_name :                     PSR_B0355+54\n",
            "      machine_id :                               10\n",
            "    telescope_id :                                6\n",
            "         src_raj :                      3:58:53.496\n",
            "         src_dej :                      54:13:14.88\n",
            "        az_start :                              0.0\n",
            "        za_start :                              0.0\n",
            "       data_type :                                1\n",
            "            fch1 :            11251.28173828125 MHz\n",
            "            foff :                -0.3662109375 MHz\n",
            "          nchans :                            10240\n",
            "          nbeams :                                0\n",
            "           ibeam :                                0\n",
            "           nbits :                                8\n",
            "   tstart (ISOT) :          2019-12-20T23:56:26.000\n",
            "    tstart (MJD) :                58837.99752314815\n",
            "           tsamp :            0.0003495253333333333\n",
            "            nifs :                                1\n",
            "\n",
            "Num ints in file :                           857088\n",
            "      File shape :               (857088, 1, 10240)\n",
            "--- Selection Info ---\n",
            "Data selection shape :               (857088, 1, 10240)\n",
            "Minimum freq (MHz) :                 7501.28173828125\n",
            "Maximum freq (MHz) :                11251.28173828125\n"
          ],
          "name": "stdout"
        }
      ]
    },
    {
      "cell_type": "code",
      "metadata": {
        "id": "IljsymFvuLbL",
        "colab_type": "code",
        "outputId": "6172a3ed-a8dc-4b44-9788-b317bf8145e1",
        "colab": {
          "base_uri": "https://localhost:8080/",
          "height": 34
        }
      },
      "source": [
        "obs = Waterfall('/content/spliced_blc40414243444546o7o0515253545556o7o061626364656667_guppi_58837_86186_PSR_B0355+54_0013.gpuspec.8.0001.fil', \n",
        "               t_start=0,\n",
        "               t_stop= 40000,\n",
        "               max_load=10)\n",
        "\n",
        "data = obs.data\n",
        "# obs.plot_all()"
      ],
      "execution_count": 2,
      "outputs": [
        {
          "output_type": "stream",
          "text": [
            "blimpy.io.base_reader WARNING  Setting data limit != 1GB, please handle with care!\n"
          ],
          "name": "stdout"
        }
      ]
    },
    {
      "cell_type": "code",
      "metadata": {
        "id": "Qe8-K33n1jcC",
        "colab_type": "code",
        "colab": {}
      },
      "source": [
        "def average(arr):\n",
        "  sum =0\n",
        "  for i in range(arr.shape[0]):\n",
        "    sum+=arr[i]\n",
        "  return sum/arr.shape[0]"
      ],
      "execution_count": 0,
      "outputs": []
    },
    {
      "cell_type": "code",
      "metadata": {
        "id": "4R5j348DN-bK",
        "colab_type": "code",
        "colab": {}
      },
      "source": [
        "import math\n",
        "def SNR(arr):\n",
        "  index = np.argmax(arr)\n",
        "  average_noise = average(arr)\n",
        "  return math.log(arr[index]/average_noise) "
      ],
      "execution_count": 0,
      "outputs": []
    },
    {
      "cell_type": "code",
      "metadata": {
        "id": "AU7wmWtc5-HB",
        "colab_type": "code",
        "outputId": "afd3afc8-27b1-46cc-e9a0-4a6c7b1596fc",
        "colab": {
          "base_uri": "https://localhost:8080/",
          "height": 1000
        }
      },
      "source": [
        "sensitivity = 5\n",
        "start = 100\n",
        "max = 1000\n",
        "snrs = []\n",
        "for period in range(start,max,sensitivity):\n",
        "  \n",
        "  fold = np.zeros((period, data.shape[2]))\n",
        "  results = np.zeros((period))\n",
        "  multiples = int(data.data.shape[0]/period)\n",
        "\n",
        "  for i in range(multiples-1):\n",
        "    fold[:,:]=data[i*period:(i+1)*period,0,:]+ fold\n",
        "  \n",
        "  results = fold.mean(axis=1)\n",
        "  snr_single = SNR(results)\n",
        "  snrs.append(snr_single)\n",
        "  print(\"Period folding... \"+str(period)+ \" SNR: \"+str(snr_single))\n",
        "  plt.plot(results)\n",
        "  plt.savefig('/content/drive/My Drive/Deeplearning/Pulsars/output/multichan/multi_chan_'+str(period)+'.png')\n",
        "  plt.close()"
      ],
      "execution_count": 10,
      "outputs": [
        {
          "output_type": "stream",
          "text": [
            "Period folding... 100 SNR: 0.00020730721101905355\n",
            "Period folding... 105 SNR: 0.0002496602929615398\n",
            "Period folding... 110 SNR: 0.0003207555515027663\n",
            "Period folding... 115 SNR: 0.0002559760844370896\n",
            "Period folding... 120 SNR: 0.00036809520688396605\n",
            "Period folding... 125 SNR: 0.0003002704079399647\n",
            "Period folding... 130 SNR: 0.0003431526748084843\n",
            "Period folding... 135 SNR: 0.00037479328006933036\n",
            "Period folding... 140 SNR: 0.00044414643858585153\n",
            "Period folding... 145 SNR: 0.00039094846925207726\n",
            "Period folding... 150 SNR: 0.00045357220057953764\n",
            "Period folding... 155 SNR: 0.00041194663617157403\n",
            "Period folding... 160 SNR: 0.000505577795558841\n",
            "Period folding... 165 SNR: 0.0005698855411184718\n",
            "Period folding... 170 SNR: 0.0004584976767160763\n",
            "Period folding... 175 SNR: 0.00038041427473684453\n",
            "Period folding... 180 SNR: 0.0003733355502806667\n",
            "Period folding... 185 SNR: 0.00047075719134368046\n",
            "Period folding... 190 SNR: 0.0004554123374993688\n",
            "Period folding... 195 SNR: 0.0006371924205466729\n",
            "Period folding... 200 SNR: 0.00032885736085807053\n",
            "Period folding... 205 SNR: 0.0005454680900486872\n",
            "Period folding... 210 SNR: 0.0005239000914779714\n",
            "Period folding... 215 SNR: 0.0005147566631898345\n",
            "Period folding... 220 SNR: 0.0004843709359732249\n",
            "Period folding... 225 SNR: 0.0005597983930887828\n",
            "Period folding... 230 SNR: 0.0005532498886995874\n",
            "Period folding... 235 SNR: 0.0005190382680047451\n",
            "Period folding... 240 SNR: 0.000600322202482056\n",
            "Period folding... 245 SNR: 0.00046855887868464934\n",
            "Period folding... 250 SNR: 0.0006736486118488176\n",
            "Period folding... 255 SNR: 0.0006288897439225933\n",
            "Period folding... 260 SNR: 0.0005517599068891652\n",
            "Period folding... 265 SNR: 0.0005774499660544082\n",
            "Period folding... 270 SNR: 0.0006533744322289093\n",
            "Period folding... 275 SNR: 0.0006341043083002929\n",
            "Period folding... 280 SNR: 0.0007944749563692468\n",
            "Period folding... 285 SNR: 0.0008289096073481047\n",
            "Period folding... 290 SNR: 0.0007746355116010565\n",
            "Period folding... 295 SNR: 0.0006110052460520377\n",
            "Period folding... 300 SNR: 0.0006091484296703168\n",
            "Period folding... 305 SNR: 0.0007123193513393655\n",
            "Period folding... 310 SNR: 0.0007385648778200137\n",
            "Period folding... 315 SNR: 0.0006059780746468741\n",
            "Period folding... 320 SNR: 0.0008512265049360896\n",
            "Period folding... 325 SNR: 0.0007424951906428918\n",
            "Period folding... 330 SNR: 0.0007257085684104783\n",
            "Period folding... 335 SNR: 0.0010393846103742288\n",
            "Period folding... 340 SNR: 0.0006675630420049629\n",
            "Period folding... 345 SNR: 0.0006643231156349332\n",
            "Period folding... 350 SNR: 0.0007781485399734701\n",
            "Period folding... 355 SNR: 0.000772640058324271\n",
            "Period folding... 360 SNR: 0.0008153960167896731\n",
            "Period folding... 365 SNR: 0.000825394734115543\n",
            "Period folding... 370 SNR: 0.000778858176788059\n",
            "Period folding... 375 SNR: 0.0007184749034736667\n",
            "Period folding... 380 SNR: 0.000773051099473502\n",
            "Period folding... 385 SNR: 0.0010662983133957601\n",
            "Period folding... 390 SNR: 0.0008782718708517849\n",
            "Period folding... 395 SNR: 0.000746735035333782\n",
            "Period folding... 400 SNR: 0.000790984428348276\n",
            "Period folding... 405 SNR: 0.0008084125803861723\n",
            "Period folding... 410 SNR: 0.0012401221353692076\n",
            "Period folding... 415 SNR: 0.0008632299504758713\n",
            "Period folding... 420 SNR: 0.0009923720681915475\n",
            "Period folding... 425 SNR: 0.0012145977471058138\n",
            "Period folding... 430 SNR: 0.0007295315841625665\n",
            "Period folding... 435 SNR: 0.0012625777434323395\n",
            "Period folding... 440 SNR: 0.0009730070459353685\n",
            "Period folding... 445 SNR: 0.0018123750739450707\n",
            "Period folding... 450 SNR: 0.001402234435650176\n",
            "Period folding... 455 SNR: 0.0013837073493391569\n",
            "Period folding... 460 SNR: 0.0012846288437960759\n",
            "Period folding... 465 SNR: 0.001029287321808201\n",
            "Period folding... 470 SNR: 0.0009485620709513685\n",
            "Period folding... 475 SNR: 0.0008391329908808556\n",
            "Period folding... 480 SNR: 0.0010443184494832501\n",
            "Period folding... 485 SNR: 0.0013507152864498612\n",
            "Period folding... 490 SNR: 0.001342762089371924\n",
            "Period folding... 495 SNR: 0.0011407964270654894\n",
            "Period folding... 500 SNR: 0.0012466388629053331\n",
            "Period folding... 505 SNR: 0.0010155897163249355\n",
            "Period folding... 510 SNR: 0.0009485909049508814\n",
            "Period folding... 515 SNR: 0.0011041518534248011\n",
            "Period folding... 520 SNR: 0.001263575171575387\n",
            "Period folding... 525 SNR: 0.001016674390609424\n",
            "Period folding... 530 SNR: 0.0010732092132277233\n",
            "Period folding... 535 SNR: 0.001201706875202851\n",
            "Period folding... 540 SNR: 0.0014243327501949122\n",
            "Period folding... 545 SNR: 0.0010224805389772585\n",
            "Period folding... 550 SNR: 0.0010448208980962305\n",
            "Period folding... 555 SNR: 0.0010205537100849078\n",
            "Period folding... 560 SNR: 0.0020493166005922624\n",
            "Period folding... 565 SNR: 0.0012791505594540377\n",
            "Period folding... 570 SNR: 0.001091892454221001\n",
            "Period folding... 575 SNR: 0.001800850928152716\n",
            "Period folding... 580 SNR: 0.001576425113188545\n",
            "Period folding... 585 SNR: 0.002024532106107972\n",
            "Period folding... 590 SNR: 0.0010100822335843576\n",
            "Period folding... 595 SNR: 0.0018420588142085664\n",
            "Period folding... 600 SNR: 0.001256393420993512\n",
            "Period folding... 605 SNR: 0.001181028716782749\n",
            "Period folding... 610 SNR: 0.0018399222905611363\n",
            "Period folding... 615 SNR: 0.0020968464930315174\n",
            "Period folding... 620 SNR: 0.0012850307804527995\n",
            "Period folding... 625 SNR: 0.0012155086321735142\n",
            "Period folding... 630 SNR: 0.0012890284979716492\n",
            "Period folding... 635 SNR: 0.0016202548611330754\n",
            "Period folding... 640 SNR: 0.0012921365646530987\n",
            "Period folding... 645 SNR: 0.0013521651231162728\n",
            "Period folding... 650 SNR: 0.0014975469873341873\n",
            "Period folding... 655 SNR: 0.0014328116078087287\n",
            "Period folding... 660 SNR: 0.0015987440961763187\n",
            "Period folding... 665 SNR: 0.0014378777427923185\n",
            "Period folding... 670 SNR: 0.0026516617435059387\n",
            "Period folding... 675 SNR: 0.0012085207977218702\n",
            "Period folding... 680 SNR: 0.00144746321076276\n",
            "Period folding... 685 SNR: 0.0014813972050221238\n",
            "Period folding... 690 SNR: 0.0014455393405559235\n",
            "Period folding... 695 SNR: 0.0013652047836574567\n",
            "Period folding... 700 SNR: 0.0014339835368231447\n",
            "Period folding... 705 SNR: 0.001548315764880284\n",
            "Period folding... 710 SNR: 0.001494680113994538\n",
            "Period folding... 715 SNR: 0.0019496757584611256\n",
            "Period folding... 720 SNR: 0.0017067243554042223\n",
            "Period folding... 725 SNR: 0.0017136849122455075\n",
            "Period folding... 730 SNR: 0.0022922549529749\n",
            "Period folding... 735 SNR: 0.0021012556358443687\n",
            "Period folding... 740 SNR: 0.002086933931969545\n",
            "Period folding... 745 SNR: 0.002773908738823388\n",
            "Period folding... 750 SNR: 0.0017018041905664707\n",
            "Period folding... 755 SNR: 0.002022205191139148\n",
            "Period folding... 760 SNR: 0.0016225951039050665\n",
            "Period folding... 765 SNR: 0.0018640914079858296\n",
            "Period folding... 770 SNR: 0.0017039819861656513\n",
            "Period folding... 775 SNR: 0.0018605123119148177\n",
            "Period folding... 780 SNR: 0.0016982635823063414\n",
            "Period folding... 785 SNR: 0.0024376455720572583\n",
            "Period folding... 790 SNR: 0.0015520329643407787\n",
            "Period folding... 795 SNR: 0.0017410152665402875\n",
            "Period folding... 800 SNR: 0.0017974765783037713\n",
            "Period folding... 805 SNR: 0.0027423431524042207\n",
            "Period folding... 810 SNR: 0.0017680126473366728\n",
            "Period folding... 815 SNR: 0.001973021953791597\n",
            "Period folding... 820 SNR: 0.003054361291383431\n",
            "Period folding... 825 SNR: 0.0022532422115670516\n",
            "Period folding... 830 SNR: 0.0021492471971091697\n",
            "Period folding... 835 SNR: 0.0021970002440145227\n",
            "Period folding... 840 SNR: 0.0014513481951918573\n",
            "Period folding... 845 SNR: 0.003291049411313875\n",
            "Period folding... 850 SNR: 0.0025115099345700436\n",
            "Period folding... 855 SNR: 0.0016836220301431105\n",
            "Period folding... 860 SNR: 0.0018146685440822818\n",
            "Period folding... 865 SNR: 0.0022382079096291492\n",
            "Period folding... 870 SNR: 0.0027304756479428417\n",
            "Period folding... 875 SNR: 0.0016992556742223732\n",
            "Period folding... 880 SNR: 0.002046533303907496\n",
            "Period folding... 885 SNR: 0.0018746715926785055\n",
            "Period folding... 890 SNR: 0.0022402174957143342\n",
            "Period folding... 895 SNR: 0.01698169302381371\n",
            "Period folding... 900 SNR: 0.0020683965207844678\n",
            "Period folding... 905 SNR: 0.001966033782191744\n",
            "Period folding... 910 SNR: 0.002441250214782096\n",
            "Period folding... 915 SNR: 0.0025691745673668705\n",
            "Period folding... 920 SNR: 0.002227681411047103\n",
            "Period folding... 925 SNR: 0.001964490251162809\n",
            "Period folding... 930 SNR: 0.0018023703084690031\n",
            "Period folding... 935 SNR: 0.002074806888070636\n",
            "Period folding... 940 SNR: 0.0021658786933846062\n",
            "Period folding... 945 SNR: 0.002110710539784154\n",
            "Period folding... 950 SNR: 0.0020986448243377515\n",
            "Period folding... 955 SNR: 0.0017215593481103451\n",
            "Period folding... 960 SNR: 0.0020961067903804385\n",
            "Period folding... 965 SNR: 0.0020803206591683376\n",
            "Period folding... 970 SNR: 0.0028780574883653445\n",
            "Period folding... 975 SNR: 0.002468424990865635\n",
            "Period folding... 980 SNR: 0.002358744770888244\n",
            "Period folding... 985 SNR: 0.0034340895870664558\n",
            "Period folding... 990 SNR: 0.0020840691044512233\n",
            "Period folding... 995 SNR: 0.002114348225347948\n"
          ],
          "name": "stdout"
        }
      ]
    },
    {
      "cell_type": "code",
      "metadata": {
        "id": "3NmaJtBaRzRS",
        "colab_type": "code",
        "colab": {
          "base_uri": "https://localhost:8080/",
          "height": 283
        },
        "outputId": "83d38527-7067-4525-9ee8-5502230b80bc"
      },
      "source": [
        "plt.plot(snrs)"
      ],
      "execution_count": 11,
      "outputs": [
        {
          "output_type": "execute_result",
          "data": {
            "text/plain": [
              "[<matplotlib.lines.Line2D at 0x7efd1ac78550>]"
            ]
          },
          "metadata": {
            "tags": []
          },
          "execution_count": 11
        },
        {
          "output_type": "display_data",
          "data": {
            "image/png": "[encoded data removed]",
            "text/plain": [
              "<Figure size 432x288 with 1 Axes>"
            ]
          },
          "metadata": {
            "tags": [],
            "needs_background": "light"
          }
        }
      ]
    },
    {
      "cell_type": "code",
      "metadata": {
        "id": "KD4TGfUnB6wq",
        "colab_type": "code",
        "outputId": "53cde330-ec29-489c-d708-b1aa9ffad199",
        "colab": {
          "base_uri": "https://localhost:8080/",
          "height": 293
        }
      },
      "source": [
        "period = 1000\n",
        "fold = np.zeros((period, data.shape[2]))\n",
        "multiples = int(data.data.shape[0]/period)\n",
        "results = np.zeros((period))\n",
        "\n",
        "for i in range(multiples-1):\n",
        "  fold[:,:]=data[i*period:(i+1)*period,0,:]+ fold\n",
        "\n",
        "\n",
        "results = fold.sum(axis=1)\n",
        "print(results.shape)\n",
        "# plt.plot(fold[:,4])\n",
        "plt.plot(results)\n",
        "plt.savefig('/content/drive/My Drive/Deeplearning/Pulsars/output/'+str(2)+'.png')"
      ],
      "execution_count": 0,
      "outputs": [
        {
          "output_type": "stream",
          "text": [
            "(1000,)\n"
          ],
          "name": "stdout"
        },
        {
          "output_type": "display_data",
          "data": {
            "image/png": "[encoded data removed]",
            "text/plain": [
              "<Figure size 432x288 with 1 Axes>"
            ]
          },
          "metadata": {
            "tags": [],
            "needs_background": "light"
          }
        }
      ]
    },
    {
      "cell_type": "code",
      "metadata": {
        "id": "IjvOZwe90q0b",
        "colab_type": "code",
        "outputId": "107343e2-4c34-4d68-b2e5-4b50cd274015",
        "colab": {
          "base_uri": "https://localhost:8080/",
          "height": 316
        }
      },
      "source": [
        "average_power = np.zeros(data.shape[2])\n",
        "for i in range(data.shape[2]):\n",
        "  average_power[i] = average(data[:,0,i])\n",
        "plt.plot(average_power)"
      ],
      "execution_count": 4,
      "outputs": [
        {
          "output_type": "error",
          "ename": "KeyboardInterrupt",
          "evalue": "ignored",
          "traceback": [
            "\u001b[0;31m---------------------------------------------------------------------------\u001b[0m",
            "\u001b[0;31mKeyboardInterrupt\u001b[0m                         Traceback (most recent call last)",
            "\u001b[0;32m<ipython-input-4-428a9bd0af32>\u001b[0m in \u001b[0;36m<module>\u001b[0;34m()\u001b[0m\n\u001b[1;32m      1\u001b[0m \u001b[0maverage_power\u001b[0m \u001b[0;34m=\u001b[0m \u001b[0mnp\u001b[0m\u001b[0;34m.\u001b[0m\u001b[0mzeros\u001b[0m\u001b[0;34m(\u001b[0m\u001b[0mdata\u001b[0m\u001b[0;34m.\u001b[0m\u001b[0mshape\u001b[0m\u001b[0;34m[\u001b[0m\u001b[0;36m2\u001b[0m\u001b[0;34m]\u001b[0m\u001b[0;34m)\u001b[0m\u001b[0;34m\u001b[0m\u001b[0;34m\u001b[0m\u001b[0m\n\u001b[1;32m      2\u001b[0m \u001b[0;32mfor\u001b[0m \u001b[0mi\u001b[0m \u001b[0;32min\u001b[0m \u001b[0mrange\u001b[0m\u001b[0;34m(\u001b[0m\u001b[0mdata\u001b[0m\u001b[0;34m.\u001b[0m\u001b[0mshape\u001b[0m\u001b[0;34m[\u001b[0m\u001b[0;36m2\u001b[0m\u001b[0;34m]\u001b[0m\u001b[0;34m)\u001b[0m\u001b[0;34m:\u001b[0m\u001b[0;34m\u001b[0m\u001b[0;34m\u001b[0m\u001b[0m\n\u001b[0;32m----> 3\u001b[0;31m   \u001b[0maverage_power\u001b[0m\u001b[0;34m[\u001b[0m\u001b[0mi\u001b[0m\u001b[0;34m]\u001b[0m \u001b[0;34m=\u001b[0m \u001b[0maverage\u001b[0m\u001b[0;34m(\u001b[0m\u001b[0mdata\u001b[0m\u001b[0;34m[\u001b[0m\u001b[0;34m:\u001b[0m\u001b[0;34m,\u001b[0m\u001b[0;36m0\u001b[0m\u001b[0;34m,\u001b[0m\u001b[0mi\u001b[0m\u001b[0;34m]\u001b[0m\u001b[0;34m)\u001b[0m\u001b[0;34m\u001b[0m\u001b[0;34m\u001b[0m\u001b[0m\n\u001b[0m\u001b[1;32m      4\u001b[0m \u001b[0mplt\u001b[0m\u001b[0;34m.\u001b[0m\u001b[0mplot\u001b[0m\u001b[0;34m(\u001b[0m\u001b[0maverage_power\u001b[0m\u001b[0;34m)\u001b[0m\u001b[0;34m\u001b[0m\u001b[0;34m\u001b[0m\u001b[0m\n",
            "\u001b[0;32m<ipython-input-3-1276f02e262f>\u001b[0m in \u001b[0;36maverage\u001b[0;34m(arr)\u001b[0m\n\u001b[1;32m      2\u001b[0m   \u001b[0msum\u001b[0m \u001b[0;34m=\u001b[0m\u001b[0;36m0\u001b[0m\u001b[0;34m\u001b[0m\u001b[0;34m\u001b[0m\u001b[0m\n\u001b[1;32m      3\u001b[0m   \u001b[0;32mfor\u001b[0m \u001b[0mi\u001b[0m \u001b[0;32min\u001b[0m \u001b[0mrange\u001b[0m\u001b[0;34m(\u001b[0m\u001b[0marr\u001b[0m\u001b[0;34m.\u001b[0m\u001b[0mshape\u001b[0m\u001b[0;34m[\u001b[0m\u001b[0;36m0\u001b[0m\u001b[0;34m]\u001b[0m\u001b[0;34m)\u001b[0m\u001b[0;34m:\u001b[0m\u001b[0;34m\u001b[0m\u001b[0;34m\u001b[0m\u001b[0m\n\u001b[0;32m----> 4\u001b[0;31m     \u001b[0msum\u001b[0m\u001b[0;34m+=\u001b[0m\u001b[0marr\u001b[0m\u001b[0;34m[\u001b[0m\u001b[0mi\u001b[0m\u001b[0;34m]\u001b[0m\u001b[0;34m\u001b[0m\u001b[0;34m\u001b[0m\u001b[0m\n\u001b[0m\u001b[1;32m      5\u001b[0m   \u001b[0;32mreturn\u001b[0m \u001b[0msum\u001b[0m\u001b[0;34m/\u001b[0m\u001b[0marr\u001b[0m\u001b[0;34m.\u001b[0m\u001b[0mshape\u001b[0m\u001b[0;34m[\u001b[0m\u001b[0;36m0\u001b[0m\u001b[0;34m]\u001b[0m\u001b[0;34m\u001b[0m\u001b[0;34m\u001b[0m\u001b[0m\n",
            "\u001b[0;31mKeyboardInterrupt\u001b[0m: "
          ]
        }
      ]
    }
  ]
}